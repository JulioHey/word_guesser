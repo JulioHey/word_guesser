{
 "cells": [
  {
   "cell_type": "markdown",
   "metadata": {},
   "source": [
    "# Relatório Criação do Algoritmo de Resolução do Wordle:"
   ]
  },
  {
   "cell_type": "markdown",
   "metadata": {},
   "source": [
    "## Etapa 1: Pegar Lista de Palavras"
   ]
  },
  {
   "cell_type": "markdown",
   "metadata": {},
   "source": [
    "* Primeiramente necessitamos de uma lista de palavras possíveis para a reposta do nosso problema;\n",
    "* Para isso utilizamos uma lista de palavras com 5 letras de um site brasileiro onde elas foram tratadas e normalizadas;"
   ]
  },
  {
   "cell_type": "markdown",
   "metadata": {},
   "source": [
    "* Importamos os pacotes que vamos utilizar:"
   ]
  },
  {
   "cell_type": "code",
   "execution_count": 2,
   "metadata": {},
   "outputs": [],
   "source": [
    "import pandas as pd\n",
    "import math"
   ]
  },
  {
   "cell_type": "code",
   "execution_count": 3,
   "metadata": {},
   "outputs": [
    {
     "data": {
      "text/html": [
       "<div>\n",
       "<style scoped>\n",
       "    .dataframe tbody tr th:only-of-type {\n",
       "        vertical-align: middle;\n",
       "    }\n",
       "\n",
       "    .dataframe tbody tr th {\n",
       "        vertical-align: top;\n",
       "    }\n",
       "\n",
       "    .dataframe thead th {\n",
       "        text-align: right;\n",
       "    }\n",
       "</style>\n",
       "<table border=\"1\" class=\"dataframe\">\n",
       "  <thead>\n",
       "    <tr style=\"text-align: right;\">\n",
       "      <th></th>\n",
       "      <th>0</th>\n",
       "    </tr>\n",
       "  </thead>\n",
       "  <tbody>\n",
       "    <tr>\n",
       "      <th>0</th>\n",
       "      <td>aarao</td>\n",
       "    </tr>\n",
       "    <tr>\n",
       "      <th>1</th>\n",
       "      <td>abaca</td>\n",
       "    </tr>\n",
       "    <tr>\n",
       "      <th>2</th>\n",
       "      <td>abaci</td>\n",
       "    </tr>\n",
       "    <tr>\n",
       "      <th>3</th>\n",
       "      <td>abaco</td>\n",
       "    </tr>\n",
       "    <tr>\n",
       "      <th>4</th>\n",
       "      <td>abade</td>\n",
       "    </tr>\n",
       "  </tbody>\n",
       "</table>\n",
       "</div>"
      ],
      "text/plain": [
       "       0\n",
       "0  aarao\n",
       "1  abaca\n",
       "2  abaci\n",
       "3  abaco\n",
       "4  abade"
      ]
     },
     "execution_count": 3,
     "metadata": {},
     "output_type": "execute_result"
    }
   ],
   "source": [
    "word_df = pd.read_csv('clean_words.csv', sep = \",\", header = None)\n",
    "word_df.head(5)"
   ]
  },
  {
   "cell_type": "markdown",
   "metadata": {},
   "source": [
    "* Para ter uma leitura melhor vamos renomear a coluna 0;"
   ]
  },
  {
   "cell_type": "code",
   "execution_count": 4,
   "metadata": {},
   "outputs": [
    {
     "data": {
      "text/html": [
       "<div>\n",
       "<style scoped>\n",
       "    .dataframe tbody tr th:only-of-type {\n",
       "        vertical-align: middle;\n",
       "    }\n",
       "\n",
       "    .dataframe tbody tr th {\n",
       "        vertical-align: top;\n",
       "    }\n",
       "\n",
       "    .dataframe thead th {\n",
       "        text-align: right;\n",
       "    }\n",
       "</style>\n",
       "<table border=\"1\" class=\"dataframe\">\n",
       "  <thead>\n",
       "    <tr style=\"text-align: right;\">\n",
       "      <th></th>\n",
       "      <th>Palavra</th>\n",
       "    </tr>\n",
       "  </thead>\n",
       "  <tbody>\n",
       "    <tr>\n",
       "      <th>612</th>\n",
       "      <td>batch</td>\n",
       "    </tr>\n",
       "    <tr>\n",
       "      <th>1328</th>\n",
       "      <td>crega</td>\n",
       "    </tr>\n",
       "    <tr>\n",
       "      <th>6055</th>\n",
       "      <td>terio</td>\n",
       "    </tr>\n",
       "    <tr>\n",
       "      <th>749</th>\n",
       "      <td>bomba</td>\n",
       "    </tr>\n",
       "    <tr>\n",
       "      <th>5065</th>\n",
       "      <td>uivem</td>\n",
       "    </tr>\n",
       "    <tr>\n",
       "      <th>5181</th>\n",
       "      <td>vazar</td>\n",
       "    </tr>\n",
       "    <tr>\n",
       "      <th>2946</th>\n",
       "      <td>mamba</td>\n",
       "    </tr>\n",
       "    <tr>\n",
       "      <th>3598</th>\n",
       "      <td>parte</td>\n",
       "    </tr>\n",
       "    <tr>\n",
       "      <th>3349</th>\n",
       "      <td>noemi</td>\n",
       "    </tr>\n",
       "    <tr>\n",
       "      <th>4939</th>\n",
       "      <td>touco</td>\n",
       "    </tr>\n",
       "  </tbody>\n",
       "</table>\n",
       "</div>"
      ],
      "text/plain": [
       "     Palavra\n",
       "612    batch\n",
       "1328   crega\n",
       "6055   terio\n",
       "749    bomba\n",
       "5065   uivem\n",
       "5181   vazar\n",
       "2946   mamba\n",
       "3598   parte\n",
       "3349   noemi\n",
       "4939   touco"
      ]
     },
     "execution_count": 4,
     "metadata": {},
     "output_type": "execute_result"
    }
   ],
   "source": [
    "word_df.rename(columns={0: \"Palavra\"}, inplace=True)\n",
    "word_df.sample(10)"
   ]
  },
  {
   "cell_type": "markdown",
   "metadata": {},
   "source": [
    "* Vamos transformar o objeto em uma lista de strings:"
   ]
  },
  {
   "cell_type": "code",
   "execution_count": 5,
   "metadata": {},
   "outputs": [],
   "source": [
    "word_list = list(word_df['Palavra'])\n",
    "word_list = tuple(word_list)"
   ]
  },
  {
   "cell_type": "markdown",
   "metadata": {},
   "source": [
    "## Etapa 2: Criar padrões"
   ]
  },
  {
   "cell_type": "markdown",
   "metadata": {},
   "source": [
    "* Para resolver o problema precisamos criar os padrões de resposta:\n",
    "* Vamos usar um padrão que é:\n",
    "    * Formado por 5 letras:\n",
    "    * Caso a letra seja 'C' ela não está presente na resposta;\n",
    "    * Caso a letra seja 'Y' ela está presente mas na está no lugar certo;\n",
    "    * Caso a letra seja 'G' ela está presente e no lugar certo;"
   ]
  },
  {
   "cell_type": "markdown",
   "metadata": {},
   "source": [
    "* Exemplo, a tentativa do usuário é 'serao' e a resposta é 'errar':\n",
    "    * O padrão recebido será: 'YCGGY';"
   ]
  },
  {
   "cell_type": "markdown",
   "metadata": {},
   "source": [
    "* Agora vamos criar esse algoritmo:\n",
    "* Primeiramente precisamo criar uma função que preencha o padrão com as letras que estão no lugar certo; "
   ]
  },
  {
   "cell_type": "code",
   "execution_count": 6,
   "metadata": {},
   "outputs": [],
   "source": [
    "def find_green(attempt, correct):\n",
    "    pattern = []\n",
    "    for index in range(5):\n",
    "        if attempt[index] == correct[index]:\n",
    "            pattern.append('G')\n",
    "        else:\n",
    "            pattern.append('C')\n",
    "    \n",
    "    return ''.join(pattern)"
   ]
  },
  {
   "cell_type": "code",
   "execution_count": 7,
   "metadata": {},
   "outputs": [
    {
     "data": {
      "text/plain": [
       "'CCGGC'"
      ]
     },
     "execution_count": 7,
     "metadata": {},
     "output_type": "execute_result"
    }
   ],
   "source": [
    "find_green(\"serao\", \"errar\")"
   ]
  },
  {
   "cell_type": "markdown",
   "metadata": {},
   "source": [
    "* Pronto já temos qual são as letras que estão no lugar certo, mas como faremos para saber quais letras estão no lugar errado;\n",
    "* Primeiro precisamos pular as que estão no lugar certo, para não sobreescreve-las;\n",
    "* Outro problema é não marcar uma letra repetida duas vezes;"
   ]
  },
  {
   "cell_type": "markdown",
   "metadata": {},
   "source": [
    "* Exemplo tentativa é __abada__ e a palavra é __caixa__:\n",
    "    * O padrão esperado é: __YCCCG__ e não __YCYCG__;\n",
    "    * No segundo caso, as duas letras a da palavra __caixa__ são contadas como 3 letras;\n",
    "    * Por isso deletamos a letra dos valores da lista correta assim que achamos uma correspondente na tentativa;"
   ]
  },
  {
   "cell_type": "markdown",
   "metadata": {},
   "source": [
    "* O código que fiz para preencher os valores amarelos é:"
   ]
  },
  {
   "cell_type": "code",
   "execution_count": 8,
   "metadata": {},
   "outputs": [],
   "source": [
    "def find_yellow(attempt, correct):\n",
    "    attempt = list(attempt)\n",
    "    correct = list(correct)\n",
    "    \n",
    "    for index in range(5):\n",
    "        if attempt[index] in correct and index not in correct_indexes:\n",
    "            pattern[index] = 'Y'\n",
    "            index_achado = correct.index(attempt[index])\n",
    "            del correct[index_achado]\n"
   ]
  },
  {
   "cell_type": "markdown",
   "metadata": {},
   "source": [
    "* Vendo o código vemos que precisamos guardar os valores que estão green;\n",
    "* E passamos desnecessariamente valores de uma função para outra, a saída para isso foi a criação de uma classe:"
   ]
  },
  {
   "cell_type": "code",
   "execution_count": 36,
   "metadata": {},
   "outputs": [],
   "source": [
    "class CreatePattern:\n",
    "    def __init__(self, correct, attempt) -> None:\n",
    "        self.correct = list(correct)\n",
    "        self.attempt = list(attempt)\n",
    "        self.pattern = list('CCCCC')\n",
    "        self.correct_indexes = []\n",
    "\n",
    "    def definy_pattern(self):\n",
    "        try:\n",
    "            self.find_green()\n",
    "            self.find_yellow()\n",
    "            return ''.join(self.pattern)\n",
    "        except Exception:\n",
    "            print(f'Palavra que deu erro {self.attempt} com {self.correct}')\n",
    "\n",
    "    def find_green(self):\n",
    "        for index in range(5):\n",
    "            if self.attempt[index] == self.correct[index]:\n",
    "                self.pattern[index] = 'G'\n",
    "                self.correct_indexes.append(index)\n",
    "                self.correct[index] = '1'\n",
    "    \n",
    "    def find_yellow(self):\n",
    "        for index in range(5):\n",
    "            if self.attempt[index] in self.correct and index not in self.correct_indexes:\n",
    "                index_achado = self.correct.index(self.attempt[index])\n",
    "                if index_achado not in self.correct_indexes:\n",
    "                    self.pattern[index] = 'Y'\n",
    "                del self.correct[index_achado]"
   ]
  },
  {
   "cell_type": "code",
   "execution_count": 10,
   "metadata": {},
   "outputs": [
    {
     "data": {
      "text/plain": [
       "'YCCCG'"
      ]
     },
     "execution_count": 10,
     "metadata": {},
     "output_type": "execute_result"
    }
   ],
   "source": [
    "CreatePattern('caixa', 'abada').definy_pattern()"
   ]
  },
  {
   "cell_type": "markdown",
   "metadata": {},
   "source": [
    "## Etapa 3: Criando agora uma classe para descobrir a melhor palavra para uma lista"
   ]
  },
  {
   "cell_type": "markdown",
   "metadata": {},
   "source": [
    "* Primeiro precisamos de uma forma de definir qual eh a melhor palavra:"
   ]
  },
  {
   "cell_type": "markdown",
   "metadata": {},
   "source": [
    "* Para isso vamos utilizar a entropia média que cada palavra da lista vai nos dar, isto é, o quanto aquela palavra vai diminuir a quantidade de possíveis palavras;\n",
    "* A entropia é calculada por: E = -log2( 1 / Possibilidades )"
   ]
  },
  {
   "cell_type": "markdown",
   "metadata": {},
   "source": [
    "* Por motivos de memória e otimização vamos calcular a entropia de uma palavra por vez, e vamos usar como exemplo a palavra: __caixa__;"
   ]
  },
  {
   "cell_type": "markdown",
   "metadata": {},
   "source": [
    "* Primeiro vamos gerar o padrão recebido para cada palavra correta no caso da tentativa ser __'caixa'__;\n",
    "* Criaremos um dataFrame com isso;"
   ]
  },
  {
   "cell_type": "code",
   "execution_count": 11,
   "metadata": {},
   "outputs": [],
   "source": [
    "attempt = 'caixa'\n",
    "\n",
    "padroes = []\n",
    "\n",
    "for word in word_list:\n",
    "    padroes.append(CreatePattern(word, attempt).definy_pattern())\n",
    "\n",
    "padroes_dt = pd.DataFrame([padroes, word_list])\n",
    "\n",
    "padroes_dt = padroes_dt.T\n",
    "padroes_dt.rename(columns = {0: 'Pattern', 1: 'Word'}, inplace = True)"
   ]
  },
  {
   "cell_type": "markdown",
   "metadata": {},
   "source": [
    "* Precisamos transpor a matriz que recebemos:\n",
    "* E vamos mudar os nomes das colunas para ficar mais claro;"
   ]
  },
  {
   "cell_type": "code",
   "execution_count": 12,
   "metadata": {},
   "outputs": [
    {
     "data": {
      "text/html": [
       "<div>\n",
       "<style scoped>\n",
       "    .dataframe tbody tr th:only-of-type {\n",
       "        vertical-align: middle;\n",
       "    }\n",
       "\n",
       "    .dataframe tbody tr th {\n",
       "        vertical-align: top;\n",
       "    }\n",
       "\n",
       "    .dataframe thead th {\n",
       "        text-align: right;\n",
       "    }\n",
       "</style>\n",
       "<table border=\"1\" class=\"dataframe\">\n",
       "  <thead>\n",
       "    <tr style=\"text-align: right;\">\n",
       "      <th></th>\n",
       "      <th>Pattern</th>\n",
       "    </tr>\n",
       "  </thead>\n",
       "  <tbody>\n",
       "    <tr>\n",
       "      <th>CCCCC</th>\n",
       "      <td>1006</td>\n",
       "    </tr>\n",
       "    <tr>\n",
       "      <th>CYCCC</th>\n",
       "      <td>665</td>\n",
       "    </tr>\n",
       "    <tr>\n",
       "      <th>CCYCC</th>\n",
       "      <td>574</td>\n",
       "    </tr>\n",
       "    <tr>\n",
       "      <th>CCCCG</th>\n",
       "      <td>366</td>\n",
       "    </tr>\n",
       "    <tr>\n",
       "      <th>CGCCC</th>\n",
       "      <td>361</td>\n",
       "    </tr>\n",
       "    <tr>\n",
       "      <th>...</th>\n",
       "      <td>...</td>\n",
       "    </tr>\n",
       "    <tr>\n",
       "      <th>GGYYC</th>\n",
       "      <td>1</td>\n",
       "    </tr>\n",
       "    <tr>\n",
       "      <th>CCYGC</th>\n",
       "      <td>1</td>\n",
       "    </tr>\n",
       "    <tr>\n",
       "      <th>CYCGY</th>\n",
       "      <td>1</td>\n",
       "    </tr>\n",
       "    <tr>\n",
       "      <th>GYYCG</th>\n",
       "      <td>1</td>\n",
       "    </tr>\n",
       "    <tr>\n",
       "      <th>CGYYG</th>\n",
       "      <td>1</td>\n",
       "    </tr>\n",
       "  </tbody>\n",
       "</table>\n",
       "<p>105 rows × 1 columns</p>\n",
       "</div>"
      ],
      "text/plain": [
       "       Pattern\n",
       "CCCCC     1006\n",
       "CYCCC      665\n",
       "CCYCC      574\n",
       "CCCCG      366\n",
       "CGCCC      361\n",
       "...        ...\n",
       "GGYYC        1\n",
       "CCYGC        1\n",
       "CYCGY        1\n",
       "GYYCG        1\n",
       "CGYYG        1\n",
       "\n",
       "[105 rows x 1 columns]"
      ]
     },
     "execution_count": 12,
     "metadata": {},
     "output_type": "execute_result"
    }
   ],
   "source": [
    "entropy_df = pd.DataFrame([(padroes_dt.Pattern.value_counts())])\n",
    "entropy_df.head()\n",
    "\n",
    "entropy_df = entropy_df.T\n",
    "entropy_df"
   ]
  },
  {
   "cell_type": "markdown",
   "metadata": {},
   "source": [
    "* Agora vamos renomear a coluna para melhor leitura;"
   ]
  },
  {
   "cell_type": "code",
   "execution_count": 13,
   "metadata": {},
   "outputs": [
    {
     "data": {
      "text/html": [
       "<div>\n",
       "<style scoped>\n",
       "    .dataframe tbody tr th:only-of-type {\n",
       "        vertical-align: middle;\n",
       "    }\n",
       "\n",
       "    .dataframe tbody tr th {\n",
       "        vertical-align: top;\n",
       "    }\n",
       "\n",
       "    .dataframe thead th {\n",
       "        text-align: right;\n",
       "    }\n",
       "</style>\n",
       "<table border=\"1\" class=\"dataframe\">\n",
       "  <thead>\n",
       "    <tr style=\"text-align: right;\">\n",
       "      <th></th>\n",
       "      <th>Total</th>\n",
       "    </tr>\n",
       "  </thead>\n",
       "  <tbody>\n",
       "    <tr>\n",
       "      <th>CCCCC</th>\n",
       "      <td>1006</td>\n",
       "    </tr>\n",
       "    <tr>\n",
       "      <th>CYCCC</th>\n",
       "      <td>665</td>\n",
       "    </tr>\n",
       "    <tr>\n",
       "      <th>CCYCC</th>\n",
       "      <td>574</td>\n",
       "    </tr>\n",
       "    <tr>\n",
       "      <th>CCCCG</th>\n",
       "      <td>366</td>\n",
       "    </tr>\n",
       "    <tr>\n",
       "      <th>CGCCC</th>\n",
       "      <td>361</td>\n",
       "    </tr>\n",
       "    <tr>\n",
       "      <th>...</th>\n",
       "      <td>...</td>\n",
       "    </tr>\n",
       "    <tr>\n",
       "      <th>GGYYC</th>\n",
       "      <td>1</td>\n",
       "    </tr>\n",
       "    <tr>\n",
       "      <th>CCYGC</th>\n",
       "      <td>1</td>\n",
       "    </tr>\n",
       "    <tr>\n",
       "      <th>CYCGY</th>\n",
       "      <td>1</td>\n",
       "    </tr>\n",
       "    <tr>\n",
       "      <th>GYYCG</th>\n",
       "      <td>1</td>\n",
       "    </tr>\n",
       "    <tr>\n",
       "      <th>CGYYG</th>\n",
       "      <td>1</td>\n",
       "    </tr>\n",
       "  </tbody>\n",
       "</table>\n",
       "<p>105 rows × 1 columns</p>\n",
       "</div>"
      ],
      "text/plain": [
       "       Total\n",
       "CCCCC   1006\n",
       "CYCCC    665\n",
       "CCYCC    574\n",
       "CCCCG    366\n",
       "CGCCC    361\n",
       "...      ...\n",
       "GGYYC      1\n",
       "CCYGC      1\n",
       "CYCGY      1\n",
       "GYYCG      1\n",
       "CGYYG      1\n",
       "\n",
       "[105 rows x 1 columns]"
      ]
     },
     "execution_count": 13,
     "metadata": {},
     "output_type": "execute_result"
    }
   ],
   "source": [
    "entropy_df.rename(columns={'Pattern': 'Total'}, inplace=True)\n",
    "entropy_df"
   ]
  },
  {
   "cell_type": "markdown",
   "metadata": {},
   "source": [
    "* Vamos calcular o total de palavras possíveis para calcular a porcentagem;"
   ]
  },
  {
   "cell_type": "code",
   "execution_count": 14,
   "metadata": {},
   "outputs": [],
   "source": [
    "total = len(word_list)"
   ]
  },
  {
   "cell_type": "markdown",
   "metadata": {},
   "source": [
    "* Vamos adicionar agora a coluna de porcentagens de possíveis palavras para cada um dos padrões;"
   ]
  },
  {
   "cell_type": "code",
   "execution_count": 15,
   "metadata": {},
   "outputs": [
    {
     "data": {
      "text/html": [
       "<div>\n",
       "<style scoped>\n",
       "    .dataframe tbody tr th:only-of-type {\n",
       "        vertical-align: middle;\n",
       "    }\n",
       "\n",
       "    .dataframe tbody tr th {\n",
       "        vertical-align: top;\n",
       "    }\n",
       "\n",
       "    .dataframe thead th {\n",
       "        text-align: right;\n",
       "    }\n",
       "</style>\n",
       "<table border=\"1\" class=\"dataframe\">\n",
       "  <thead>\n",
       "    <tr style=\"text-align: right;\">\n",
       "      <th></th>\n",
       "      <th>Total</th>\n",
       "      <th>Porcentagem</th>\n",
       "    </tr>\n",
       "  </thead>\n",
       "  <tbody>\n",
       "    <tr>\n",
       "      <th>CCCCC</th>\n",
       "      <td>1006</td>\n",
       "      <td>16.456732</td>\n",
       "    </tr>\n",
       "    <tr>\n",
       "      <th>CYCCC</th>\n",
       "      <td>665</td>\n",
       "      <td>10.878456</td>\n",
       "    </tr>\n",
       "    <tr>\n",
       "      <th>CCYCC</th>\n",
       "      <td>574</td>\n",
       "      <td>9.389825</td>\n",
       "    </tr>\n",
       "    <tr>\n",
       "      <th>CCCCG</th>\n",
       "      <td>366</td>\n",
       "      <td>5.987240</td>\n",
       "    </tr>\n",
       "    <tr>\n",
       "      <th>CGCCC</th>\n",
       "      <td>361</td>\n",
       "      <td>5.905447</td>\n",
       "    </tr>\n",
       "  </tbody>\n",
       "</table>\n",
       "</div>"
      ],
      "text/plain": [
       "       Total  Porcentagem\n",
       "CCCCC   1006    16.456732\n",
       "CYCCC    665    10.878456\n",
       "CCYCC    574     9.389825\n",
       "CCCCG    366     5.987240\n",
       "CGCCC    361     5.905447"
      ]
     },
     "execution_count": 15,
     "metadata": {},
     "output_type": "execute_result"
    }
   ],
   "source": [
    "entropy_df['Porcentagem'] = entropy_df['Total'].apply(lambda e: e * 100.0 / total)\n",
    "entropy_df.head()"
   ]
  },
  {
   "cell_type": "markdown",
   "metadata": {},
   "source": [
    "* Agora vamos calcular a entropia para cada um dos padrões;"
   ]
  },
  {
   "cell_type": "code",
   "execution_count": 16,
   "metadata": {},
   "outputs": [
    {
     "data": {
      "text/html": [
       "<div>\n",
       "<style scoped>\n",
       "    .dataframe tbody tr th:only-of-type {\n",
       "        vertical-align: middle;\n",
       "    }\n",
       "\n",
       "    .dataframe tbody tr th {\n",
       "        vertical-align: top;\n",
       "    }\n",
       "\n",
       "    .dataframe thead th {\n",
       "        text-align: right;\n",
       "    }\n",
       "</style>\n",
       "<table border=\"1\" class=\"dataframe\">\n",
       "  <thead>\n",
       "    <tr style=\"text-align: right;\">\n",
       "      <th></th>\n",
       "      <th>Total</th>\n",
       "      <th>Porcentagem</th>\n",
       "      <th>Entropia</th>\n",
       "    </tr>\n",
       "  </thead>\n",
       "  <tbody>\n",
       "    <tr>\n",
       "      <th>CCCCC</th>\n",
       "      <td>1006</td>\n",
       "      <td>16.456732</td>\n",
       "      <td>2.603250</td>\n",
       "    </tr>\n",
       "    <tr>\n",
       "      <th>CYCCC</th>\n",
       "      <td>665</td>\n",
       "      <td>10.878456</td>\n",
       "      <td>3.200454</td>\n",
       "    </tr>\n",
       "    <tr>\n",
       "      <th>CCYCC</th>\n",
       "      <td>574</td>\n",
       "      <td>9.389825</td>\n",
       "      <td>3.412758</td>\n",
       "    </tr>\n",
       "    <tr>\n",
       "      <th>CCCCG</th>\n",
       "      <td>366</td>\n",
       "      <td>5.987240</td>\n",
       "      <td>4.061965</td>\n",
       "    </tr>\n",
       "    <tr>\n",
       "      <th>CGCCC</th>\n",
       "      <td>361</td>\n",
       "      <td>5.905447</td>\n",
       "      <td>4.081810</td>\n",
       "    </tr>\n",
       "  </tbody>\n",
       "</table>\n",
       "</div>"
      ],
      "text/plain": [
       "       Total  Porcentagem  Entropia\n",
       "CCCCC   1006    16.456732  2.603250\n",
       "CYCCC    665    10.878456  3.200454\n",
       "CCYCC    574     9.389825  3.412758\n",
       "CCCCG    366     5.987240  4.061965\n",
       "CGCCC    361     5.905447  4.081810"
      ]
     },
     "execution_count": 16,
     "metadata": {},
     "output_type": "execute_result"
    }
   ],
   "source": [
    "entropy_df['Entropia'] = entropy_df['Porcentagem'].apply(lambda percentage: math.log2( 100 / (percentage)))\n",
    "entropy_df.head()"
   ]
  },
  {
   "cell_type": "markdown",
   "metadata": {},
   "source": [
    "* Agora vamos usar a entropia que recebemos para cada padrão para calcular a entropia média para a palavra;\n",
    "* Para isso iremos iterar através das linhas:\n",
    "    * Para cada linha iremos multiplicar a entropia de cada linha pelo total de palavras e adicionaremos ao acumulador;\n",
    "    * Ao final, dividiremos o acumulador pelo total de palavras para recebermos a entropia média da palavra;"
   ]
  },
  {
   "cell_type": "code",
   "execution_count": 17,
   "metadata": {},
   "outputs": [
    {
     "name": "stdout",
     "output_type": "stream",
     "text": [
      "A entropia média da palavra caixa é 4.826021179676948\n"
     ]
    }
   ],
   "source": [
    "sum = 0\n",
    "\n",
    "for row in entropy_df.iterrows():\n",
    "    sum += (row[1].Total * row[1].Entropia)\n",
    "\n",
    "entropy = sum / total\n",
    "print(f'A entropia média da palavra {attempt} é {entropy}')"
   ]
  },
  {
   "cell_type": "markdown",
   "metadata": {},
   "source": [
    "* Agora vamos criar a Classe para fazer tudo isso por nós:"
   ]
  },
  {
   "cell_type": "code",
   "execution_count": 18,
   "metadata": {},
   "outputs": [],
   "source": [
    "class EntropyGetter:\n",
    "    def __init__(self, word ,possible_word_list):\n",
    "        self.word = word\n",
    "        self.possible_word_list = possible_word_list\n",
    "        self.total = len(possible_word_list)\n",
    "    \n",
    "    def entropy(self):\n",
    "        self.get_df()\n",
    "        self.manipulate_dataframe()\n",
    "        return self.get_entropy()\n",
    "\n",
    "    def get_entropy(self):\n",
    "        sum = 0\n",
    "\n",
    "        for row in self.entropy_df.iterrows():\n",
    "            sum += (row[1].Total * row[1].Entropia)\n",
    "\n",
    "        return float(sum) / self.total\n",
    "    \n",
    "    def manipulate_dataframe(self):\n",
    "        self.manipulate_columns()\n",
    "        self.add_percentage_to_df()\n",
    "        self.add_entropy_to_df()\n",
    "    \n",
    "    def manipulate_columns(self):\n",
    "        self.entropy_df = self.entropy_df.T\n",
    "        self.entropy_df.rename(columns={0: 'Total'}, inplace=True)\n",
    "\n",
    "    def add_entropy_to_df(self):\n",
    "        self.entropy_df['Entropia'] = self.entropy_df['Porcentagem'].apply(lambda percentage: math.log2( 100 / (percentage)))\n",
    "\n",
    "    def add_percentage_to_df(self):\n",
    "        self.entropy_df['Porcentagem'] = self.entropy_df['Total'].apply(lambda e: e * 100.0 / self.total)\n",
    "\n",
    "    def get_df(self):\n",
    "        padroes = []\n",
    "        for word in self.possible_word_list:\n",
    "            padroes.append(CreatePattern(word, self.word).definy_pattern())\n",
    "\n",
    "        self.padroes_series = pd.Series(padroes)\n",
    "        self.entropy_df = pd.DataFrame([self.padroes_series.value_counts()])\n",
    "    \n",
    "    "
   ]
  },
  {
   "cell_type": "markdown",
   "metadata": {},
   "source": [
    "* Agora vamos testar nossa classe;"
   ]
  },
  {
   "cell_type": "code",
   "execution_count": 19,
   "metadata": {},
   "outputs": [
    {
     "name": "stdout",
     "output_type": "stream",
     "text": [
      "A entropia média da palavra caixa é 4.826021179676948\n"
     ]
    }
   ],
   "source": [
    "print(f'A entropia média da palavra {attempt} é {EntropyGetter(\"caixa\", word_list).entropy()}')"
   ]
  },
  {
   "cell_type": "markdown",
   "metadata": {},
   "source": [
    "* Agora já temos nossa classe para pegar a entropia de uma palavra específica para uma lista de palavras possíveis;"
   ]
  },
  {
   "cell_type": "markdown",
   "metadata": {},
   "source": [
    "## Etapa 4: Receber as possíveis palavras para o padrão recebido:"
   ]
  },
  {
   "cell_type": "code",
   "execution_count": 20,
   "metadata": {},
   "outputs": [
    {
     "data": {
      "text/plain": [
       "31"
      ]
     },
     "execution_count": 20,
     "metadata": {},
     "output_type": "execute_result"
    }
   ],
   "source": [
    "pattern = 'CCYYC'\n",
    "possible_word_list = list(word_list)\n",
    "for word in word_list:\n",
    "    pattern_class = CreatePattern(word, attempt)\n",
    "    patter_received = pattern_class.definy_pattern()\n",
    "    del pattern_class\n",
    "    if (patter_received != pattern):\n",
    "        possible_word_list.remove(word)\n",
    "\n",
    "len(possible_word_list)"
   ]
  },
  {
   "cell_type": "code",
   "execution_count": 21,
   "metadata": {},
   "outputs": [],
   "source": [
    "pattern_received = 'CCYYC'\n",
    "\n",
    "padroes_dt_filtered = padroes_dt[padroes_dt['Pattern'] == pattern_received]"
   ]
  },
  {
   "cell_type": "code",
   "execution_count": 22,
   "metadata": {},
   "outputs": [
    {
     "data": {
      "text/plain": [
       "['eixos',\n",
       " 'felix',\n",
       " 'fixei',\n",
       " 'fixem',\n",
       " 'fixes',\n",
       " 'fixou',\n",
       " 'index',\n",
       " 'linux',\n",
       " 'lixos',\n",
       " 'luxei',\n",
       " 'noxio',\n",
       " 'pirex',\n",
       " 'puxei',\n",
       " 'remix',\n",
       " 'rexio',\n",
       " 'rilex',\n",
       " 'silex',\n",
       " 'sioux',\n",
       " 'xelim',\n",
       " 'xenio',\n",
       " 'ximbe',\n",
       " 'xinto',\n",
       " 'xopim',\n",
       " 'xotei',\n",
       " 'fenix',\n",
       " 'minix',\n",
       " 'mixer',\n",
       " 'pioix',\n",
       " 'pixel',\n",
       " 'sexti',\n",
       " 'xisto']"
      ]
     },
     "execution_count": 22,
     "metadata": {},
     "output_type": "execute_result"
    }
   ],
   "source": [
    "possible_word_list = list(padroes_dt_filtered.Word)\n",
    "possible_word_list"
   ]
  },
  {
   "cell_type": "markdown",
   "metadata": {},
   "source": [
    "* Temos aqui agora a lista de possiveis palavras;"
   ]
  },
  {
   "cell_type": "code",
   "execution_count": 23,
   "metadata": {},
   "outputs": [
    {
     "data": {
      "text/plain": [
       "31"
      ]
     },
     "execution_count": 23,
     "metadata": {},
     "output_type": "execute_result"
    }
   ],
   "source": [
    "len(possible_word_list)"
   ]
  },
  {
   "cell_type": "markdown",
   "metadata": {},
   "source": [
    "## Etapa 5: Agora vamos pegar a melhor palavra para uma lista de possíveis chutes e uma lista de possíveis palavras;"
   ]
  },
  {
   "cell_type": "markdown",
   "metadata": {},
   "source": [
    "* Para fazer isso precisamos saber qual a palavra dos possíveis chutes vai nos dar a maior entropia-média para uma certa lista de possíveis palavras;"
   ]
  },
  {
   "cell_type": "code",
   "execution_count": 24,
   "metadata": {},
   "outputs": [
    {
     "data": {
      "text/html": [
       "<div>\n",
       "<style scoped>\n",
       "    .dataframe tbody tr th:only-of-type {\n",
       "        vertical-align: middle;\n",
       "    }\n",
       "\n",
       "    .dataframe tbody tr th {\n",
       "        vertical-align: top;\n",
       "    }\n",
       "\n",
       "    .dataframe thead th {\n",
       "        text-align: right;\n",
       "    }\n",
       "</style>\n",
       "<table border=\"1\" class=\"dataframe\">\n",
       "  <thead>\n",
       "    <tr style=\"text-align: right;\">\n",
       "      <th></th>\n",
       "      <th>0</th>\n",
       "      <th>1</th>\n",
       "      <th>2</th>\n",
       "      <th>3</th>\n",
       "      <th>4</th>\n",
       "      <th>5</th>\n",
       "      <th>6</th>\n",
       "      <th>7</th>\n",
       "      <th>8</th>\n",
       "      <th>9</th>\n",
       "      <th>...</th>\n",
       "      <th>6103</th>\n",
       "      <th>6104</th>\n",
       "      <th>6105</th>\n",
       "      <th>6106</th>\n",
       "      <th>6107</th>\n",
       "      <th>6108</th>\n",
       "      <th>6109</th>\n",
       "      <th>6110</th>\n",
       "      <th>6111</th>\n",
       "      <th>6112</th>\n",
       "    </tr>\n",
       "  </thead>\n",
       "  <tbody>\n",
       "    <tr>\n",
       "      <th>0</th>\n",
       "      <td>2.018399</td>\n",
       "      <td>0.205593</td>\n",
       "      <td>0.834646</td>\n",
       "      <td>1.524526</td>\n",
       "      <td>1.279038</td>\n",
       "      <td>1.76896</td>\n",
       "      <td>2.153075</td>\n",
       "      <td>0.205593</td>\n",
       "      <td>0.951086</td>\n",
       "      <td>1.895721</td>\n",
       "      <td>...</td>\n",
       "      <td>3.471159</td>\n",
       "      <td>2.964177</td>\n",
       "      <td>3.977917</td>\n",
       "      <td>3.332756</td>\n",
       "      <td>3.079818</td>\n",
       "      <td>3.001637</td>\n",
       "      <td>1.601619</td>\n",
       "      <td>3.275516</td>\n",
       "      <td>1.653543</td>\n",
       "      <td>2.143893</td>\n",
       "    </tr>\n",
       "    <tr>\n",
       "      <th>1</th>\n",
       "      <td>aarao</td>\n",
       "      <td>abaca</td>\n",
       "      <td>abaci</td>\n",
       "      <td>abaco</td>\n",
       "      <td>abade</td>\n",
       "      <td>abafe</td>\n",
       "      <td>abafo</td>\n",
       "      <td>abaja</td>\n",
       "      <td>abaju</td>\n",
       "      <td>abale</td>\n",
       "      <td>...</td>\n",
       "      <td>xenon</td>\n",
       "      <td>xerez</td>\n",
       "      <td>xerox</td>\n",
       "      <td>xisto</td>\n",
       "      <td>xnove</td>\n",
       "      <td>xtudo</td>\n",
       "      <td>zambi</td>\n",
       "      <td>zepto</td>\n",
       "      <td>zoico</td>\n",
       "      <td>zumbi</td>\n",
       "    </tr>\n",
       "  </tbody>\n",
       "</table>\n",
       "<p>2 rows × 6113 columns</p>\n",
       "</div>"
      ],
      "text/plain": [
       "       0         1         2         3         4        5         6     \\\n",
       "0  2.018399  0.205593  0.834646  1.524526  1.279038  1.76896  2.153075   \n",
       "1     aarao     abaca     abaci     abaco     abade    abafe     abafo   \n",
       "\n",
       "       7         8         9     ...      6103      6104      6105      6106  \\\n",
       "0  0.205593  0.951086  1.895721  ...  3.471159  2.964177  3.977917  3.332756   \n",
       "1     abaja     abaju     abale  ...     xenon     xerez     xerox     xisto   \n",
       "\n",
       "       6107      6108      6109      6110      6111      6112  \n",
       "0  3.079818  3.001637  1.601619  3.275516  1.653543  2.143893  \n",
       "1     xnove     xtudo     zambi     zepto     zoico     zumbi  \n",
       "\n",
       "[2 rows x 6113 columns]"
      ]
     },
     "execution_count": 24,
     "metadata": {},
     "output_type": "execute_result"
    }
   ],
   "source": [
    "entropy = []\n",
    "\n",
    "for word in word_list:\n",
    "    entropy.append(EntropyGetter(word, possible_word_list).entropy())\n",
    "\n",
    "entropy_mean_df = pd.DataFrame([entropy, word_list])\n",
    "entropy_mean_df.head()"
   ]
  },
  {
   "cell_type": "markdown",
   "metadata": {},
   "source": [
    "* Depois disso manipulamos o DataFrame;"
   ]
  },
  {
   "cell_type": "code",
   "execution_count": 25,
   "metadata": {},
   "outputs": [
    {
     "data": {
      "text/html": [
       "<div>\n",
       "<style scoped>\n",
       "    .dataframe tbody tr th:only-of-type {\n",
       "        vertical-align: middle;\n",
       "    }\n",
       "\n",
       "    .dataframe tbody tr th {\n",
       "        vertical-align: top;\n",
       "    }\n",
       "\n",
       "    .dataframe thead th {\n",
       "        text-align: right;\n",
       "    }\n",
       "</style>\n",
       "<table border=\"1\" class=\"dataframe\">\n",
       "  <thead>\n",
       "    <tr style=\"text-align: right;\">\n",
       "      <th></th>\n",
       "      <th>0</th>\n",
       "      <th>1</th>\n",
       "    </tr>\n",
       "  </thead>\n",
       "  <tbody>\n",
       "    <tr>\n",
       "      <th>0</th>\n",
       "      <td>2.018399</td>\n",
       "      <td>aarao</td>\n",
       "    </tr>\n",
       "    <tr>\n",
       "      <th>1</th>\n",
       "      <td>0.205593</td>\n",
       "      <td>abaca</td>\n",
       "    </tr>\n",
       "    <tr>\n",
       "      <th>2</th>\n",
       "      <td>0.834646</td>\n",
       "      <td>abaci</td>\n",
       "    </tr>\n",
       "    <tr>\n",
       "      <th>3</th>\n",
       "      <td>1.524526</td>\n",
       "      <td>abaco</td>\n",
       "    </tr>\n",
       "    <tr>\n",
       "      <th>4</th>\n",
       "      <td>1.279038</td>\n",
       "      <td>abade</td>\n",
       "    </tr>\n",
       "  </tbody>\n",
       "</table>\n",
       "</div>"
      ],
      "text/plain": [
       "          0      1\n",
       "0  2.018399  aarao\n",
       "1  0.205593  abaca\n",
       "2  0.834646  abaci\n",
       "3  1.524526  abaco\n",
       "4  1.279038  abade"
      ]
     },
     "execution_count": 25,
     "metadata": {},
     "output_type": "execute_result"
    }
   ],
   "source": [
    "entropy_mean_df = entropy_mean_df.T\n",
    "entropy_mean_df.head()"
   ]
  },
  {
   "cell_type": "code",
   "execution_count": 26,
   "metadata": {},
   "outputs": [
    {
     "data": {
      "text/html": [
       "<div>\n",
       "<style scoped>\n",
       "    .dataframe tbody tr th:only-of-type {\n",
       "        vertical-align: middle;\n",
       "    }\n",
       "\n",
       "    .dataframe tbody tr th {\n",
       "        vertical-align: top;\n",
       "    }\n",
       "\n",
       "    .dataframe thead th {\n",
       "        text-align: right;\n",
       "    }\n",
       "</style>\n",
       "<table border=\"1\" class=\"dataframe\">\n",
       "  <thead>\n",
       "    <tr style=\"text-align: right;\">\n",
       "      <th></th>\n",
       "      <th>Mean-Entropy</th>\n",
       "      <th>Word</th>\n",
       "    </tr>\n",
       "  </thead>\n",
       "  <tbody>\n",
       "    <tr>\n",
       "      <th>0</th>\n",
       "      <td>2.018399</td>\n",
       "      <td>aarao</td>\n",
       "    </tr>\n",
       "    <tr>\n",
       "      <th>1</th>\n",
       "      <td>0.205593</td>\n",
       "      <td>abaca</td>\n",
       "    </tr>\n",
       "    <tr>\n",
       "      <th>2</th>\n",
       "      <td>0.834646</td>\n",
       "      <td>abaci</td>\n",
       "    </tr>\n",
       "    <tr>\n",
       "      <th>3</th>\n",
       "      <td>1.524526</td>\n",
       "      <td>abaco</td>\n",
       "    </tr>\n",
       "    <tr>\n",
       "      <th>4</th>\n",
       "      <td>1.279038</td>\n",
       "      <td>abade</td>\n",
       "    </tr>\n",
       "  </tbody>\n",
       "</table>\n",
       "</div>"
      ],
      "text/plain": [
       "  Mean-Entropy   Word\n",
       "0     2.018399  aarao\n",
       "1     0.205593  abaca\n",
       "2     0.834646  abaci\n",
       "3     1.524526  abaco\n",
       "4     1.279038  abade"
      ]
     },
     "execution_count": 26,
     "metadata": {},
     "output_type": "execute_result"
    }
   ],
   "source": [
    "entropy_mean_df.rename(columns={0: 'Mean-Entropy', 1: 'Word'}, inplace = True)\n",
    "entropy_mean_df.head()"
   ]
  },
  {
   "cell_type": "markdown",
   "metadata": {},
   "source": [
    "* Por fim recebemos a palavra que vai nos dar a maior entropia de todas;"
   ]
  },
  {
   "cell_type": "code",
   "execution_count": 27,
   "metadata": {},
   "outputs": [
    {
     "data": {
      "text/plain": [
       "4483    silex\n",
       "Name: Word, dtype: object"
      ]
     },
     "execution_count": 27,
     "metadata": {},
     "output_type": "execute_result"
    }
   ],
   "source": [
    "entropy_mean_df[entropy_mean_df['Mean-Entropy'] == entropy_mean_df['Mean-Entropy'].max()]['Word']"
   ]
  },
  {
   "cell_type": "markdown",
   "metadata": {},
   "source": [
    "* Agora vamos criar uma classe para isso, juntando a etapa 4 e 5;"
   ]
  },
  {
   "cell_type": "code",
   "execution_count": 28,
   "metadata": {},
   "outputs": [],
   "source": [
    "class GetBetterGuessForInput:\n",
    "    def __init__(self, possible_word_list: list , word_list: list, pattern: str, word_input: str):\n",
    "        self.pattern = pattern\n",
    "        self.word_list = word_list\n",
    "        self.possible_word_list = possible_word_list\n",
    "        self.word_input = word_input\n",
    "\n",
    "    def get_guess(self):\n",
    "        self.new_possible_words()\n",
    "        self.get_mean_entropy_df()\n",
    "        self.manipulate_df()\n",
    "        return (self.new_possible_words, self.get_max_entropy_guess())\n",
    "    \n",
    "    def new_possible_words(self):\n",
    "        self.new_possible_words = []\n",
    "        for word in self.possible_word_list:\n",
    "            pattern_class = CreatePattern(word, self.word_input)\n",
    "            patter_received = pattern_class.definy_pattern()\n",
    "            del pattern_class\n",
    "            if (patter_received == self.pattern):\n",
    "                self.new_possible_words.append(word)\n",
    "    \n",
    "    def get_mean_entropy_df(self):\n",
    "        entropy = []\n",
    "\n",
    "        for word in self.word_list:\n",
    "            entropy_getter = EntropyGetter(word, self.new_possible_words)\n",
    "            entropy.append(entropy_getter.entropy())\n",
    "            del entropy_getter\n",
    "\n",
    "        self.entropy_mean_df = pd.DataFrame([entropy, self.word_list])\n",
    "\n",
    "    def manipulate_df(self):\n",
    "        self.entropy_mean_df = self.entropy_mean_df.T\n",
    "        self.entropy_mean_df.rename(columns={0: 'Mean-Entropy', 1: 'Word'}, inplace = True)\n",
    "\n",
    "    def get_max_entropy_guess(self):\n",
    "        max_mean_entropy = self.entropy_mean_df['Mean-Entropy'].max()\n",
    "        target_row = self.entropy_mean_df[self.entropy_mean_df['Mean-Entropy'] == max_mean_entropy]\n",
    "        return target_row['Word'].values[0]\n"
   ]
  },
  {
   "cell_type": "markdown",
   "metadata": {},
   "source": [
    "* Vamos testar tudo de uma vez agora:"
   ]
  },
  {
   "cell_type": "code",
   "execution_count": 29,
   "metadata": {},
   "outputs": [
    {
     "data": {
      "text/plain": [
       "(['eixos',\n",
       "  'felix',\n",
       "  'fixei',\n",
       "  'fixem',\n",
       "  'fixes',\n",
       "  'fixou',\n",
       "  'index',\n",
       "  'linux',\n",
       "  'lixos',\n",
       "  'luxei',\n",
       "  'noxio',\n",
       "  'pirex',\n",
       "  'puxei',\n",
       "  'remix',\n",
       "  'rexio',\n",
       "  'rilex',\n",
       "  'silex',\n",
       "  'sioux',\n",
       "  'xelim',\n",
       "  'xenio',\n",
       "  'ximbe',\n",
       "  'xinto',\n",
       "  'xopim',\n",
       "  'xotei',\n",
       "  'fenix',\n",
       "  'minix',\n",
       "  'mixer',\n",
       "  'pioix',\n",
       "  'pixel',\n",
       "  'sexti',\n",
       "  'xisto'],\n",
       " 4483    silex\n",
       " Name: Word, dtype: object)"
      ]
     },
     "execution_count": 29,
     "metadata": {},
     "output_type": "execute_result"
    }
   ],
   "source": [
    "GetBetterGuessForInput(list(word_list), list(word_list), pattern_received, attempt).get_guess()"
   ]
  },
  {
   "cell_type": "markdown",
   "metadata": {},
   "source": [
    "* Pronto dessa forma, agora está pronto nosso algoritmo e podemos usar ele da forma que desejarmos;"
   ]
  },
  {
   "cell_type": "markdown",
   "metadata": {},
   "source": [
    "* Por questões de maior legibilidade vamos separar em duas classes:\n",
    "    1. Vamos conseguir a lista de possíveis palavras;\n",
    "    2. Depois vamos pegar o melhor chute;"
   ]
  },
  {
   "cell_type": "code",
   "execution_count": 54,
   "metadata": {},
   "outputs": [],
   "source": [
    "class GetPossibleWordList:\n",
    "    def __init__(self, possible_word_list: list , pattern: str, word_input: str):\n",
    "        self.pattern = pattern\n",
    "        self.possible_word_list = possible_word_list\n",
    "        self.word_input = word_input\n",
    "    \n",
    "    def get_new_word_list(self):\n",
    "        self.fill_new_possible_words()\n",
    "        return self.new_possible_words\n",
    "\n",
    "    def fill_new_possible_words(self):\n",
    "        self.new_possible_words = []\n",
    "        for word in self.possible_word_list:\n",
    "            self.check_if_word_is_possible(word)\n",
    "    \n",
    "    def check_if_word_is_possible(self, word):\n",
    "        pattern_class = CreatePattern(word, self.word_input)\n",
    "        patter_received = pattern_class.definy_pattern()\n",
    "        del pattern_class\n",
    "        if (patter_received == self.pattern):\n",
    "            self.new_possible_words.append(word)"
   ]
  },
  {
   "cell_type": "code",
   "execution_count": 58,
   "metadata": {},
   "outputs": [],
   "source": [
    "new_word_list = GetPossibleWordList(list(word_list), pattern_received, attempt).get_new_word_list()"
   ]
  },
  {
   "cell_type": "code",
   "execution_count": 59,
   "metadata": {},
   "outputs": [],
   "source": [
    "class GetBetterGuessForWordList:\n",
    "    def __init__(self, possible_word_list: list , word_list: list):\n",
    "        self.word_list = word_list\n",
    "        self.possible_word_list = possible_word_list\n",
    "    \n",
    "    def get_guess(self):\n",
    "        self.get_mean_entropy_df()\n",
    "        self.manipulate_df()\n",
    "        return self.get_max_entropy_guess()\n",
    "        \n",
    "    def get_mean_entropy_df(self):\n",
    "        entropy = []\n",
    "\n",
    "        for word in self.word_list:\n",
    "            entropy_getter = EntropyGetter(word, self.possible_word_list)\n",
    "            entropy.append(entropy_getter.entropy())\n",
    "            del entropy_getter\n",
    "\n",
    "        self.entropy_mean_df = pd.DataFrame([entropy, self.word_list])\n",
    "    \n",
    "    def manipulate_df(self):\n",
    "        self.entropy_mean_df = self.entropy_mean_df.T\n",
    "        self.entropy_mean_df.rename(columns={0: 'Mean-Entropy', 1: 'Word'}, inplace = True)\n",
    "\n",
    "    def get_max_entropy_guess(self):\n",
    "        max_mean_entropy = self.entropy_mean_df['Mean-Entropy'].max()\n",
    "        target_row = self.entropy_mean_df[self.entropy_mean_df['Mean-Entropy'] == max_mean_entropy]\n",
    "        return target_row['Word'].values[0]"
   ]
  },
  {
   "cell_type": "code",
   "execution_count": 60,
   "metadata": {},
   "outputs": [
    {
     "data": {
      "text/plain": [
       "'silex'"
      ]
     },
     "execution_count": 60,
     "metadata": {},
     "output_type": "execute_result"
    }
   ],
   "source": [
    "GetBetterGuessForWordList(new_word_list, list(word_list)).get_guess()"
   ]
  },
  {
   "cell_type": "markdown",
   "metadata": {},
   "source": [
    "* Pronto agora já temos as classes separadas, e funcionando;"
   ]
  }
 ],
 "metadata": {
  "interpreter": {
   "hash": "89a381c546bb73c5ce7ff94969913ded251b4872a7cbd9d68fa8618a769b42db"
  },
  "kernelspec": {
   "display_name": "Python 3.9.7 ('base')",
   "language": "python",
   "name": "python3"
  },
  "language_info": {
   "codemirror_mode": {
    "name": "ipython",
    "version": 3
   },
   "file_extension": ".py",
   "mimetype": "text/x-python",
   "name": "python",
   "nbconvert_exporter": "python",
   "pygments_lexer": "ipython3",
   "version": "3.9.7"
  },
  "orig_nbformat": 4
 },
 "nbformat": 4,
 "nbformat_minor": 2
}
